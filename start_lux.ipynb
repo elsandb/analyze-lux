{
 "cells": [
  {
   "cell_type": "markdown",
   "id": "04507726",
   "metadata": {},
   "source": [
    "# Trying out [LUX](https://lux-api.readthedocs.io/en/latest/) - A Python API for Intelligent Visual Discovery"
   ]
  },
  {
   "cell_type": "markdown",
   "id": "b14214b0",
   "metadata": {},
   "source": [
    "This notebook is launched from Anaconda Navigator.\n",
    "Active virtual env = 'venv_lux'.\n",
    "Packages installed: Pandas. lux-api."
   ]
  },
  {
   "cell_type": "code",
   "execution_count": 1,
   "id": "e3411615",
   "metadata": {},
   "outputs": [
    {
     "name": "stdout",
     "output_type": "stream",
     "text": [
      "Path to active virtual environment:  C:\\Users\\Bruker\\miniconda3\\envs\\venv_lux\\python.exe\n"
     ]
    }
   ],
   "source": [
    "import sys\n",
    "print('Path to active virtual environment: ', sys.executable)"
   ]
  },
  {
   "cell_type": "code",
   "execution_count": 21,
   "id": "4cba27bb",
   "metadata": {
    "tags": []
   },
   "outputs": [],
   "source": [
    "from math import nan\n",
    "import matplotlib.pyplot as plt\n",
    "import numpy as np\n",
    "import pandas as pd\n",
    "import lux"
   ]
  },
  {
   "cell_type": "code",
   "execution_count": 3,
   "id": "de88f87a",
   "metadata": {},
   "outputs": [],
   "source": [
    "# Set Lux as default display\n",
    "# df.default_display = \"lux\""
   ]
  },
  {
   "cell_type": "code",
   "execution_count": 5,
   "id": "913a3af3-a043-4acd-842f-32ef08393bb5",
   "metadata": {
    "tags": []
   },
   "outputs": [],
   "source": [
    "# Debug lux widget if needed\n",
    "# lux.debug_info()"
   ]
  },
  {
   "cell_type": "code",
   "execution_count": 6,
   "id": "ed80100d-af63-4603-87a4-4f0c2690d7a0",
   "metadata": {
    "tags": []
   },
   "outputs": [],
   "source": [
    "# Install lux widget if needed\n",
    "# !jupyter nbextension install --py luxwidget"
   ]
  },
  {
   "cell_type": "code",
   "execution_count": 7,
   "id": "54cf9ed5-f686-4866-b79a-ad0b3a914d20",
   "metadata": {
    "tags": []
   },
   "outputs": [
    {
     "name": "stderr",
     "output_type": "stream",
     "text": [
      "Enabling notebook extension luxwidget/extension...\n",
      "      - Validating: ok\n"
     ]
    }
   ],
   "source": [
    "# Enable lux widget for jupyter notebook:\n",
    "!jupyter nbextension enable --py luxwidget"
   ]
  },
  {
   "cell_type": "code",
   "execution_count": 8,
   "id": "734a6873",
   "metadata": {
    "tags": []
   },
   "outputs": [],
   "source": [
    "df = pd.read_csv('./data/20230711234129.csv', skiprows=5)\n",
    "df['EffectiveDate'] = pd.to_datetime(df['EffectiveDate'], format='%Y-%m-%d')"
   ]
  },
  {
   "cell_type": "code",
   "execution_count": 9,
   "id": "e5da37d7",
   "metadata": {},
   "outputs": [
    {
     "data": {
      "text/plain": [
       "(5846, 35)"
      ]
     },
     "execution_count": 9,
     "metadata": {},
     "output_type": "execute_result"
    }
   ],
   "source": [
    "df.shape"
   ]
  },
  {
   "cell_type": "code",
   "execution_count": 10,
   "id": "74675bdc",
   "metadata": {},
   "outputs": [
    {
     "data": {
      "application/vnd.jupyter.widget-view+json": {
       "model_id": "4b3ba3472dfd4f7494463fb9a2c1bf01",
       "version_major": 2,
       "version_minor": 0
      },
      "text/plain": [
       "Button(description='Toggle Pandas/Lux', layout=Layout(top='5px', width='140px'), style=ButtonStyle())"
      ]
     },
     "metadata": {},
     "output_type": "display_data"
    },
    {
     "data": {
      "application/vnd.jupyter.widget-view+json": {
       "model_id": "b22d064864204549bc2671b96e1dd415",
       "version_major": 2,
       "version_minor": 0
      },
      "text/plain": [
       "Output()"
      ]
     },
     "metadata": {},
     "output_type": "display_data"
    }
   ],
   "source": [
    "df.head(5)"
   ]
  },
  {
   "cell_type": "code",
   "execution_count": 11,
   "id": "a3e39c2d",
   "metadata": {},
   "outputs": [
    {
     "data": {
      "application/vnd.jupyter.widget-view+json": {
       "model_id": "6a05dfde44d24a25883f0e6dc8fd1fe1",
       "version_major": 2,
       "version_minor": 0
      },
      "text/plain": [
       "Button(description='Toggle Pandas/Lux', layout=Layout(top='5px', width='140px'), style=ButtonStyle())"
      ]
     },
     "metadata": {},
     "output_type": "display_data"
    },
    {
     "data": {
      "application/vnd.jupyter.widget-view+json": {
       "model_id": "42742276fe00403392ac7f3584bf5289",
       "version_major": 2,
       "version_minor": 0
      },
      "text/plain": [
       "Output()"
      ]
     },
     "metadata": {},
     "output_type": "display_data"
    }
   ],
   "source": [
    "df"
   ]
  },
  {
   "cell_type": "code",
   "execution_count": 12,
   "id": "db260fec",
   "metadata": {
    "tags": []
   },
   "outputs": [
    {
     "data": {
      "application/vnd.jupyter.widget-view+json": {
       "model_id": "6b1828f37dc04ee38b4f6cb877b2d1d9",
       "version_major": 2,
       "version_minor": 0
      },
      "text/plain": [
       "Button(description='Toggle Pandas/Lux', layout=Layout(top='5px', width='140px'), style=ButtonStyle())"
      ]
     },
     "metadata": {},
     "output_type": "display_data"
    },
    {
     "data": {
      "application/vnd.jupyter.widget-view+json": {
       "model_id": "e736f5af3ce2451fa46ac71e7e8599b6",
       "version_major": 2,
       "version_minor": 0
      },
      "text/plain": [
       "Output()"
      ]
     },
     "metadata": {},
     "output_type": "display_data"
    }
   ],
   "source": [
    "df.intent = ['PricePerUnit']\n",
    "df"
   ]
  },
  {
   "cell_type": "markdown",
   "id": "4d55d429",
   "metadata": {},
   "source": [
    "---\n",
    "\n",
    "# [Export Visualizations](https://lux-api.readthedocs.io/en/latest/source/guide/export.html)\n",
    "\n",
    "## Selecting a Single Visualization as Vis\n",
    "Click on the cisualization of interest and then click the export button (looks like this 📤).\n",
    "The selected visualization(s) will be stored in the list-variable `df.exported`, \n",
    "and can be accessed like this:\n",
    "```\n",
    "vis0 = df.exported[0]\n",
    "vis1 = df.exported[1]\n",
    "```"
   ]
  },
  {
   "cell_type": "code",
   "execution_count": 13,
   "id": "cc11f643",
   "metadata": {},
   "outputs": [
    {
     "data": {
      "application/vnd.jupyter.widget-view+json": {
       "model_id": "8d40517614a0429e820daaab44713268",
       "version_major": 2,
       "version_minor": 0
      },
      "text/plain": [
       "Button(description='Toggle Pandas/Lux', layout=Layout(top='5px', width='140px'), style=ButtonStyle())"
      ]
     },
     "metadata": {},
     "output_type": "display_data"
    },
    {
     "data": {
      "application/vnd.jupyter.widget-view+json": {
       "model_id": "944a6596ff874a2684784ed6555580d3",
       "version_major": 2,
       "version_minor": 0
      },
      "text/plain": [
       "Output()"
      ]
     },
     "metadata": {},
     "output_type": "display_data"
    }
   ],
   "source": [
    "df.intent = ['PricePerUnit']  # Selected Transfer Type and Unit in the Enhance tab.\n",
    "df"
   ]
  },
  {
   "cell_type": "code",
   "execution_count": 15,
   "id": "00a7b1f0",
   "metadata": {
    "scrolled": false
   },
   "outputs": [
    {
     "data": {
      "application/vnd.jupyter.widget-view+json": {
       "model_id": "49dd783f0cd044aa83a56c7d66c953de",
       "version_major": 2,
       "version_minor": 0
      },
      "text/plain": [
       "LuxWidget(current_vis={'config': {'view': {'continuousWidth': 300, 'continuousHeight': 300}, 'axis': {'labelCo…"
      ]
     },
     "metadata": {},
     "output_type": "display_data"
    }
   ],
   "source": [
    "vis = df.exported[0]\n",
    "vis"
   ]
  },
  {
   "cell_type": "code",
   "execution_count": 16,
   "id": "835df5f3",
   "metadata": {},
   "outputs": [
    {
     "data": {
      "application/vnd.jupyter.widget-view+json": {
       "model_id": "d55423795a6c473588207bd0d708b34b",
       "version_major": 2,
       "version_minor": 0
      },
      "text/plain": [
       "LuxWidget(current_vis={'config': {'view': {'continuousWidth': 300, 'continuousHeight': 300}, 'axis': {'labelCo…"
      ]
     },
     "metadata": {},
     "output_type": "display_data"
    }
   ],
   "source": [
    "vis_unit = df.exported[1]\n",
    "vis_unit"
   ]
  },
  {
   "cell_type": "markdown",
   "id": "8d7a1d14",
   "metadata": {},
   "source": [
    "#### Exporting to Matplotlib"
   ]
  },
  {
   "cell_type": "code",
   "execution_count": 35,
   "id": "ef2568e3",
   "metadata": {},
   "outputs": [
    {
     "name": "stdout",
     "output_type": "stream",
     "text": [
      "import matplotlib.pyplot as plt\n",
      "plt.rcParams.update(\n",
      "            {\n",
      "                \"axes.titlesize\": 20,\n",
      "                \"axes.titleweight\": \"bold\",\n",
      "                \"axes.labelweight\": \"bold\",\n",
      "                \"axes.labelsize\": 16,\n",
      "                \"legend.fontsize\": 14,\n",
      "                \"legend.title_fontsize\": 15,\n",
      "                \"xtick.labelsize\": 13,\n",
      "                \"ytick.labelsize\": 13,\n",
      "            }\n",
      "        )\n",
      "import numpy as np\n",
      "from math import nan\n",
      "df = pd.DataFrame({'Unit': {0: 'API Requests', 1: 'GB', 2: 'GB-Mo', 3: 'GB-month', 4: 'Gigabyte Month', 5: 'Jobs', 6: 'Objects', 7: 'Requests', 8: 'Tag-Mo'}, 'PricePerUnit': {0: 0.0, 1: 0.009310087939698493, 2: 0.01756390457643622, 3: 0.00325, 4: 0.0031322, 5: 0.25, 6: 4.53205e-07, 7: 0.29114629813148785, 8: 1.003448275862069e-06}})\n",
      "fig, ax = plt.subplots()\n",
      "bars = df['Unit']\n",
      "measurements = df['PricePerUnit']\n",
      "ax.barh(0      API Requests\n",
      "1                GB\n",
      "2             GB-Mo\n",
      "3          GB-month\n",
      "4    Gigabyte Month\n",
      "5              Jobs\n",
      "6           Objects\n",
      "7          Requests\n",
      "8            Tag-Mo\n",
      "Name: Unit, dtype: object, 0    0.000000e+00\n",
      "1    9.310088e-03\n",
      "2    1.756390e-02\n",
      "3    3.250000e-03\n",
      "4    3.132200e-03\n",
      "5    2.500000e-01\n",
      "6    4.532050e-07\n",
      "7    2.911463e-01\n",
      "8    1.003448e-06\n",
      "Name: PricePerUnit, dtype: float64, align='center')\n",
      "ax.set_xlabel('PricePerUnit')\n",
      "ax.set_ylabel('Unit')\n",
      "\n",
      "fig\n"
     ]
    }
   ],
   "source": [
    "print(vis_unit.to_matplotlib())"
   ]
  },
  {
   "cell_type": "code",
   "execution_count": 51,
   "id": "e8f88c08",
   "metadata": {},
   "outputs": [
    {
     "data": {
      "image/png": "[encoded data removed]",
      "text/plain": [
       "<Figure size 640x480 with 1 Axes>"
      ]
     },
     "metadata": {},
     "output_type": "display_data"
    }
   ],
   "source": [
    "fig, ax = plt.subplots()\n",
    "\n",
    "# Data\n",
    "tdf = pd.DataFrame({'Unit': {0: 'API Requests', 1: 'GB', 2: 'GB-Mo', 3: 'GB-month', 4: 'Gigabyte Month', 5: 'Jobs', 6: 'Objects', 7: 'Requests', 8: 'Tag-Mo'}, 'PricePerUnit': {0: 0.0, 1: 0.009310087939698493, 2: 0.01756390457643622, 3: 0.00325, 4: 0.0031322, 5: 0.25, 6: 4.53205e-07, 7: 0.29114629813148785, 8: 1.003448275862069e-06}})\n",
    "units = tdf['Unit']\n",
    "y_pos = range(len(units))\n",
    "price_per_unit_list = tdf['PricePerUnit']\n",
    "\n",
    "ax.barh(y_pos, price_per_unit_list, align='center')\n",
    "ax.set_yticks(y_pos, labels=transfer_types)\n",
    "ax.set_xlabel('Price Per Unit')\n",
    "ax.set_title('Price Per Unit vs. Unit')\n",
    "\n",
    "plt.show()"
   ]
  },
  {
   "cell_type": "markdown",
   "id": "021a0598",
   "metadata": {},
   "source": [
    "#### Setting Vis as the Updated Intent\n",
    "Often, we might be interested in other visualizations that is related to a visualization of interest and want to learn more. With the exported Vis, we can update the intent associated with dataframe to be based on the selected Vis to get more recommendations related to this visualization."
   ]
  },
  {
   "cell_type": "code",
   "execution_count": 60,
   "id": "f4ed980c",
   "metadata": {},
   "outputs": [
    {
     "data": {
      "application/vnd.jupyter.widget-view+json": {
       "model_id": "4637403603e149e289ccda8a2bce352a",
       "version_major": 2,
       "version_minor": 0
      },
      "text/plain": [
       "Button(description='Toggle Pandas/Lux', layout=Layout(top='5px', width='140px'), style=ButtonStyle())"
      ]
     },
     "metadata": {},
     "output_type": "display_data"
    },
    {
     "data": {
      "application/vnd.jupyter.widget-view+json": {
       "model_id": "f350cbe85c864f3c889ab98860f88ba3",
       "version_major": 2,
       "version_minor": 0
      },
      "text/plain": [
       "Output()"
      ]
     },
     "metadata": {},
     "output_type": "display_data"
    }
   ],
   "source": [
    "new_df = pd.read_csv('./data/20230711234129.csv', skiprows=5)\n",
    "new_df['EffectiveDate'] = pd.to_datetime(df['EffectiveDate'], format='%Y-%m-%d')\n",
    "new_df"
   ]
  },
  {
   "cell_type": "code",
   "execution_count": 65,
   "id": "cfa0e39b",
   "metadata": {},
   "outputs": [
    {
     "data": {
      "application/vnd.jupyter.widget-view+json": {
       "model_id": "3ef65a846c054c079c9f66937ca5477d",
       "version_major": 2,
       "version_minor": 0
      },
      "text/plain": [
       "Button(description='Toggle Pandas/Lux', layout=Layout(top='5px', width='140px'), style=ButtonStyle())"
      ]
     },
     "metadata": {},
     "output_type": "display_data"
    },
    {
     "data": {
      "application/vnd.jupyter.widget-view+json": {
       "model_id": "30bee7714edc4d4e8e5a584e34537d1f",
       "version_major": 2,
       "version_minor": 0
      },
      "text/plain": [
       "Output()"
      ]
     },
     "metadata": {},
     "output_type": "display_data"
    }
   ],
   "source": [
    "new_df.intent = ['PricePerUnit']\n",
    "new_df"
   ]
  },
  {
   "cell_type": "code",
   "execution_count": 67,
   "id": "e08f6dec",
   "metadata": {},
   "outputs": [
    {
     "name": "stdout",
     "output_type": "stream",
     "text": [
      "Saved HTML to visuals_page.html\n"
     ]
    }
   ],
   "source": [
    "new_df.save_as_html('visuals_page.html')"
   ]
  },
  {
   "cell_type": "code",
   "execution_count": null,
   "id": "33db6a59",
   "metadata": {},
   "outputs": [],
   "source": []
  }
 ],
 "metadata": {
  "kernelspec": {
   "display_name": "Python 3 (ipykernel)",
   "language": "python",
   "name": "python3"
  },
  "language_info": {
   "codemirror_mode": {
    "name": "ipython",
    "version": 3
   },
   "file_extension": ".py",
   "mimetype": "text/x-python",
   "name": "python",
   "nbconvert_exporter": "python",
   "pygments_lexer": "ipython3",
   "version": "3.11.4"
  }
 },
 "nbformat": 4,
 "nbformat_minor": 5
}
